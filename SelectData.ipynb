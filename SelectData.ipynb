{
 "cells": [
  {
   "cell_type": "code",
   "execution_count": 7,
   "metadata": {},
   "outputs": [],
   "source": [
    "import yfinance as yf\n",
    "import pandas as pd"
   ]
  },
  {
   "cell_type": "code",
   "execution_count": 8,
   "metadata": {},
   "outputs": [
    {
     "name": "stderr",
     "output_type": "stream",
     "text": [
      "[*********************100%***********************]  1 of 1 completed\n"
     ]
    }
   ],
   "source": [
    "#####\n",
    "# data aquisition from ipo to today\n",
    "##\n",
    "ipo_date = \"1962-01-02\"\n",
    "yesterday_date = \"2024-12-09\"\n",
    "IBMTicker='IBM'\n",
    "\n",
    "IBMdata = yf.download(IBMTicker, start=ipo_date, end=yesterday_date)"
   ]
  },
  {
   "cell_type": "code",
   "execution_count": 9,
   "metadata": {},
   "outputs": [
    {
     "data": {
      "text/plain": [
       "Date\n",
       "1962-01-02      7.291268\n",
       "1962-01-03      7.355003\n",
       "1962-01-04      7.281708\n",
       "1962-01-05      7.138305\n",
       "1962-01-08      7.004461\n",
       "                 ...    \n",
       "2024-12-02    227.389999\n",
       "2024-12-03    229.000000\n",
       "2024-12-04    233.490005\n",
       "2024-12-05    234.750000\n",
       "2024-12-06    238.039993\n",
       "Name: IBM, Length: 15842, dtype: float64"
      ]
     },
     "execution_count": 9,
     "metadata": {},
     "output_type": "execute_result"
    }
   ],
   "source": [
    "#####\n",
    "# Slice out the Closing price data \n",
    "# Reset index to turn series into a data frame\n",
    "# rename close price column from IBM to Close\n",
    "##\n",
    "\n",
    "df_IBM_close = IBMdata['Close'].IBM\n",
    "df_IBM_close"
   ]
  },
  {
   "cell_type": "code",
   "execution_count": 10,
   "metadata": {},
   "outputs": [],
   "source": [
    "#####\n",
    "# Save the data as a csv so that I don't exhaust API limits\n",
    "##\n",
    "df_IBM_close.to_csv(\"IBM_Stock_Data.csv\")"
   ]
  },
  {
   "cell_type": "code",
   "execution_count": null,
   "metadata": {},
   "outputs": [],
   "source": []
  }
 ],
 "metadata": {
  "kernelspec": {
   "display_name": "base",
   "language": "python",
   "name": "python3"
  },
  "language_info": {
   "codemirror_mode": {
    "name": "ipython",
    "version": 3
   },
   "file_extension": ".py",
   "mimetype": "text/x-python",
   "name": "python",
   "nbconvert_exporter": "python",
   "pygments_lexer": "ipython3",
   "version": "3.10.14"
  },
  "orig_nbformat": 4
 },
 "nbformat": 4,
 "nbformat_minor": 2
}
